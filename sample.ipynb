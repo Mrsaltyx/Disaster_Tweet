{
 "cells": [
  {
   "metadata": {
    "ExecuteTime": {
     "end_time": "2025-07-11T15:16:16.853842Z",
     "start_time": "2025-07-11T15:16:16.385067Z"
    }
   },
   "cell_type": "code",
   "source": [
    "import pandas as pd\n",
    "from sklearn.model_selection import train_test_split\n",
    "from sklearn.feature_extraction.text import TfidfVectorizer\n",
    "from sklearn.linear_model import LogisticRegression\n",
    "from sklearn.metrics import classification_report\n",
    "\n",
    "# === 🔹 1. Chargement du dataset\n",
    "df = pd.read_csv('path')\n",
    "X = df['text']\n",
    "y = df['target']\n",
    "\n",
    "# === 🔹 2. Split train / validation\n",
    "X_train, X_val, y_train, y_val = train_test_split(X, y, test_size=0.2, random_state=42)\n",
    "\n",
    "# === 🔹 3. Vectorisation TF-IDF avec bigrammes\n",
    "vectorizer = TfidfVectorizer(stop_words='english', max_features=5000, ngram_range=(1, 2))\n",
    "X_train_vec = vectorizer.fit_transform(X_train)\n",
    "X_val_vec = vectorizer.transform(X_val)\n",
    "\n",
    "# === 🔹 4. Modèle : Régression logistique\n",
    "model = LogisticRegression(max_iter=1000)\n",
    "model.fit(X_train_vec, y_train)\n",
    "y_pred = model.predict(X_val_vec)\n",
    "\n",
    "# === 🔹 5. Évaluation\n",
    "print(\"🔹 Modèle final : Texte brut + LogisticRegression + ngram (1,2)\")\n",
    "print(classification_report(y_val, y_pred))\n",
    "\n",
    "# === 🔹 6. Prédictions sur test.csv\n",
    "test_df = pd.read_csv('C:/Users/toto0/Downloads/tweet/data/test.csv')\n",
    "X_test = test_df['text']\n",
    "X_test_vec = vectorizer.transform(X_test)\n",
    "test_preds = model.predict(X_test_vec)\n",
    "\n",
    "# === 🔹 7. Création du fichier de soumission\n",
    "submission = pd.DataFrame({\n",
    "    \"id\": test_df[\"id\"],\n",
    "    \"target\": test_preds\n",
    "})\n",
    "submission.to_csv(\"submission.csv\", index=False)\n",
    "print(\"✅ Fichier 'submission.csv' généré avec succès\")\n"
   ],
   "id": "7116d3a929794460",
   "outputs": [
    {
     "name": "stdout",
     "output_type": "stream",
     "text": [
      "🔹 Modèle final : Texte brut + LogisticRegression + ngram (1,2)\n",
      "              precision    recall  f1-score   support\n",
      "\n",
      "           0       0.79      0.88      0.83       874\n",
      "           1       0.81      0.69      0.75       649\n",
      "\n",
      "    accuracy                           0.80      1523\n",
      "   macro avg       0.80      0.78      0.79      1523\n",
      "weighted avg       0.80      0.80      0.80      1523\n",
      "\n",
      "✅ Fichier 'submission.csv' généré avec succès\n"
     ]
    }
   ],
   "execution_count": 3
  }
 ],
 "metadata": {
  "kernelspec": {
   "display_name": "Python 3",
   "language": "python",
   "name": "python3"
  },
  "language_info": {
   "codemirror_mode": {
    "name": "ipython",
    "version": 2
   },
   "file_extension": ".py",
   "mimetype": "text/x-python",
   "name": "python",
   "nbconvert_exporter": "python",
   "pygments_lexer": "ipython2",
   "version": "2.7.6"
  }
 },
 "nbformat": 4,
 "nbformat_minor": 5
}
